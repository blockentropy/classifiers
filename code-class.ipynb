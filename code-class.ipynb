{
 "cells": [
  {
   "cell_type": "code",
   "execution_count": 1,
   "id": "ce2825eb",
   "metadata": {},
   "outputs": [],
   "source": [
    "import json\n",
    "import numpy as np\n",
    "from datasets import Dataset"
   ]
  },
  {
   "cell_type": "code",
   "execution_count": 2,
   "id": "0bb02e92",
   "metadata": {},
   "outputs": [],
   "source": [
    "# Instruction Tuning with GPT-4 dataset, Peng et al. 2023\n",
    "with open('comparison_data_v2.json', 'r') as file:\n",
    "    data = json.load(file)\n"
   ]
  },
  {
   "cell_type": "code",
   "execution_count": 3,
   "id": "26e1a6f1",
   "metadata": {},
   "outputs": [],
   "source": [
    "# Code Alpaca Dataset, Chaudhary 2023\n",
    "with open('code_alpaca_20k.json', 'r') as file:\n",
    "    datacode = json.load(file)"
   ]
  },
  {
   "cell_type": "code",
   "execution_count": 4,
   "id": "fc6893f0",
   "metadata": {},
   "outputs": [
    {
     "name": "stdout",
     "output_type": "stream",
     "text": [
      "52001\n"
     ]
    }
   ],
   "source": [
    "# 52k general prompts in Instruction tuning database\n",
    "print(len(data))"
   ]
  },
  {
   "cell_type": "code",
   "execution_count": 5,
   "id": "6fd0f088",
   "metadata": {},
   "outputs": [
    {
     "name": "stdout",
     "output_type": "stream",
     "text": [
      "20022\n"
     ]
    }
   ],
   "source": [
    "# 20k coding prompts in Code Alpaca\n",
    "print(len(datacode))"
   ]
  },
  {
   "cell_type": "code",
   "execution_count": 6,
   "id": "3a37c19c",
   "metadata": {},
   "outputs": [],
   "source": [
    "text = []\n",
    "labels = []"
   ]
  },
  {
   "cell_type": "code",
   "execution_count": 7,
   "id": "e9b70298",
   "metadata": {},
   "outputs": [],
   "source": [
    "# Extract the instruction from the Coding dataset, assign a label of 1\n",
    "# Iterate through each item in the data list\n",
    "for item in datacode:\n",
    "    # Concatenate the instruction and input values, separated by a space\n",
    "    textitem = item['instruction'] + ' ' + item['input']\n",
    "    # Append the concatenated string to the concatenated_list\n",
    "    text.append(textitem)\n",
    "    labels.append(1)\n"
   ]
  },
  {
   "cell_type": "code",
   "execution_count": 8,
   "id": "2398fd7f",
   "metadata": {},
   "outputs": [],
   "source": [
    "# Extract the instruction from the General prompting dataset, assign a label of 0\n",
    "for item in data:\n",
    "    # Extracting the instruction text\n",
    "    instruction_start = item['user_input'].find('### Instruction:') + len('### Instruction:\\n')\n",
    "    instruction_end = item['user_input'].find('### Input:')\n",
    "    instruction_text = item['user_input'][instruction_start:].strip().replace(\"### Input:\", \"\")\n",
    "\n",
    "    \n",
    "    scores = [response['score'] for response in item['responses_and_scores']]\n",
    "    if len(scores) == 3:\n",
    "        text.append(instruction_text)\n",
    "        labels.append(0)\n"
   ]
  },
  {
   "cell_type": "code",
   "execution_count": 9,
   "id": "59b4a537",
   "metadata": {},
   "outputs": [
    {
     "name": "stdout",
     "output_type": "stream",
     "text": [
      "Dataset({\n",
      "    features: ['text', 'labels'],\n",
      "    num_rows: 70020\n",
      "})\n"
     ]
    }
   ],
   "source": [
    "data_dict = {\n",
    "    \"text\": text,\n",
    "    \"labels\": labels,\n",
    "}\n",
    "\n",
    "# Convert the data dictionary into a HuggingFace Dataset\n",
    "hf_dataset = Dataset.from_dict(data_dict)\n",
    "\n",
    "# Print dataset format\n",
    "print(hf_dataset)"
   ]
  },
  {
   "cell_type": "code",
   "execution_count": 10,
   "id": "2007cbfe",
   "metadata": {},
   "outputs": [
    {
     "name": "stdout",
     "output_type": "stream",
     "text": [
      "Dataset({\n",
      "    features: ['text', 'labels'],\n",
      "    num_rows: 56016\n",
      "})\n",
      "Dataset({\n",
      "    features: ['text', 'labels'],\n",
      "    num_rows: 14004\n",
      "})\n",
      "[0, 0, 1, 1, 0, 0, 0, 0, 0, 0, 0, 1, 0, 0, 0, 0, 1, 1, 0, 1]\n"
     ]
    }
   ],
   "source": [
    "from datasets import DatasetDict\n",
    "\n",
    "# Convert your Dataset into a DatasetDict\n",
    "dataset_dict = DatasetDict({\"all\": hf_dataset})\n",
    "\n",
    "# Shuffle the dataset\n",
    "shuffled_dataset = dataset_dict[\"all\"].shuffle(seed=42)  # You can provide a seed for reproducibility\n",
    "\n",
    "# Splitting the shuffled dataset into train and test\n",
    "splits = shuffled_dataset.train_test_split(test_size=0.2)  # Adjust the test_size parameter as needed\n",
    "\n",
    "train_dataset = splits[\"train\"]\n",
    "test_dataset = splits[\"test\"]\n",
    "print(train_dataset)\n",
    "print(test_dataset)\n",
    "print(train_dataset[\"labels\"][:20])"
   ]
  },
  {
   "cell_type": "code",
   "execution_count": 11,
   "id": "9f720447",
   "metadata": {},
   "outputs": [
    {
     "data": {
      "application/vnd.jupyter.widget-view+json": {
       "model_id": "5bc42d54300647568bcc7cdb0adeeb5c",
       "version_major": 2,
       "version_minor": 0
      },
      "text/plain": [
       "Map:   0%|          | 0/56016 [00:00<?, ? examples/s]"
      ]
     },
     "metadata": {},
     "output_type": "display_data"
    }
   ],
   "source": [
    "from transformers import DistilBertTokenizer\n",
    "\n",
    "tokenizer = DistilBertTokenizer.from_pretrained(\"distilbert-base-uncased\")\n",
    "\n",
    "# Tokenize the dataset\n",
    "def tokenize_function(examples):\n",
    "    return tokenizer(examples[\"text\"], padding=\"max_length\", truncation=True, max_length=512)\n",
    "\n",
    "tokenized_datasets = train_dataset.map(tokenize_function, batched=True)"
   ]
  },
  {
   "cell_type": "code",
   "execution_count": 12,
   "id": "e795c82e",
   "metadata": {},
   "outputs": [
    {
     "data": {
      "application/vnd.jupyter.widget-view+json": {
       "model_id": "68bc553faec1451db3fc2fc9ae51c28a",
       "version_major": 2,
       "version_minor": 0
      },
      "text/plain": [
       "Map:   0%|          | 0/14004 [00:00<?, ? examples/s]"
      ]
     },
     "metadata": {},
     "output_type": "display_data"
    }
   ],
   "source": [
    "tokenized_datasets_test = test_dataset.map(tokenize_function, batched=True)"
   ]
  },
  {
   "cell_type": "code",
   "execution_count": 13,
   "id": "b5b28071",
   "metadata": {},
   "outputs": [
    {
     "name": "stdout",
     "output_type": "stream",
     "text": [
      "Dataset({\n",
      "    features: ['text', 'labels', 'input_ids', 'attention_mask'],\n",
      "    num_rows: 56016\n",
      "})\n"
     ]
    }
   ],
   "source": [
    "print(tokenized_datasets)"
   ]
  },
  {
   "cell_type": "code",
   "execution_count": 14,
   "id": "ae4bc632",
   "metadata": {},
   "outputs": [],
   "source": [
    "tokenized_datasets = tokenized_datasets.with_format(\"torch\", columns=[\"input_ids\", \"attention_mask\", \"labels\"])"
   ]
  },
  {
   "cell_type": "code",
   "execution_count": 15,
   "id": "db44f1fd",
   "metadata": {},
   "outputs": [],
   "source": [
    "tokenized_datasets_test = tokenized_datasets_test.with_format(\"torch\", columns=[\"input_ids\", \"attention_mask\", \"labels\"])\n"
   ]
  },
  {
   "cell_type": "code",
   "execution_count": 16,
   "id": "bc944c07",
   "metadata": {},
   "outputs": [
    {
     "name": "stderr",
     "output_type": "stream",
     "text": [
      "Some weights of DistilBertForSequenceClassification were not initialized from the model checkpoint at distilbert-base-uncased and are newly initialized: ['classifier.weight', 'pre_classifier.weight', 'pre_classifier.bias', 'classifier.bias']\n",
      "You should probably TRAIN this model on a down-stream task to be able to use it for predictions and inference.\n"
     ]
    }
   ],
   "source": [
    "from transformers import AutoModelForSequenceClassification\n",
    "model = AutoModelForSequenceClassification.from_pretrained(\"distilbert-base-uncased\", num_labels=2)"
   ]
  },
  {
   "cell_type": "code",
   "execution_count": 17,
   "id": "83935fb6",
   "metadata": {},
   "outputs": [],
   "source": [
    "import numpy as np\n",
    "from datasets import load_metric\n",
    " \n",
    "def compute_metrics(eval_pred):\n",
    "   load_accuracy = load_metric(\"accuracy\")\n",
    "   load_f1 = load_metric(\"f1\")\n",
    "  \n",
    "   logits, labels = eval_pred\n",
    "   predictions = np.argmax(logits, axis=-1)\n",
    "   accuracy = load_accuracy.compute(predictions=predictions, references=labels)[\"accuracy\"]\n",
    "   f1 = load_f1.compute(predictions=predictions, references=labels)[\"f1\"]\n",
    "   return {\"accuracy\": accuracy, \"f1\": f1}"
   ]
  },
  {
   "cell_type": "code",
   "execution_count": 18,
   "id": "db7e81c0",
   "metadata": {},
   "outputs": [],
   "source": [
    "from transformers import DataCollatorWithPadding\n",
    "data_collator = DataCollatorWithPadding(tokenizer=tokenizer)"
   ]
  },
  {
   "cell_type": "code",
   "execution_count": 19,
   "id": "ddc84907",
   "metadata": {},
   "outputs": [
    {
     "data": {
      "text/html": [
       "\n",
       "    <div>\n",
       "      \n",
       "      <progress value='10503' max='10503' style='width:300px; height:20px; vertical-align: middle;'></progress>\n",
       "      [10503/10503 2:00:51, Epoch 3/3]\n",
       "    </div>\n",
       "    <table border=\"1\" class=\"dataframe\">\n",
       "  <thead>\n",
       " <tr style=\"text-align: left;\">\n",
       "      <th>Epoch</th>\n",
       "      <th>Training Loss</th>\n",
       "      <th>Validation Loss</th>\n",
       "      <th>Accuracy</th>\n",
       "      <th>F1</th>\n",
       "    </tr>\n",
       "  </thead>\n",
       "  <tbody>\n",
       "    <tr>\n",
       "      <td>1</td>\n",
       "      <td>0.157700</td>\n",
       "      <td>0.154092</td>\n",
       "      <td>0.952299</td>\n",
       "      <td>0.916354</td>\n",
       "    </tr>\n",
       "    <tr>\n",
       "      <td>2</td>\n",
       "      <td>0.149000</td>\n",
       "      <td>0.150749</td>\n",
       "      <td>0.954941</td>\n",
       "      <td>0.923096</td>\n",
       "    </tr>\n",
       "    <tr>\n",
       "      <td>3</td>\n",
       "      <td>0.106800</td>\n",
       "      <td>0.150101</td>\n",
       "      <td>0.954941</td>\n",
       "      <td>0.922700</td>\n",
       "    </tr>\n",
       "  </tbody>\n",
       "</table><p>"
      ],
      "text/plain": [
       "<IPython.core.display.HTML object>"
      ]
     },
     "metadata": {},
     "output_type": "display_data"
    },
    {
     "name": "stderr",
     "output_type": "stream",
     "text": [
      "/var/folders/z6/np42rq5916n6wj38kyxng8y5wtprhb/T/ipykernel_47070/1757224399.py:5: FutureWarning: load_metric is deprecated and will be removed in the next major version of datasets. Use 'evaluate.load' instead, from the new library 🤗 Evaluate: https://huggingface.co/docs/evaluate\n",
      "  load_accuracy = load_metric(\"accuracy\")\n"
     ]
    },
    {
     "data": {
      "application/vnd.jupyter.widget-view+json": {
       "model_id": "b0fd75cf959b45bc8f6fed7bceb13fdd",
       "version_major": 2,
       "version_minor": 0
      },
      "text/plain": [
       "Downloading builder script:   0%|          | 0.00/1.65k [00:00<?, ?B/s]"
      ]
     },
     "metadata": {},
     "output_type": "display_data"
    },
    {
     "data": {
      "application/vnd.jupyter.widget-view+json": {
       "model_id": "7bfc2f4a44d4426497ca419635312aab",
       "version_major": 2,
       "version_minor": 0
      },
      "text/plain": [
       "Downloading builder script:   0%|          | 0.00/2.32k [00:00<?, ?B/s]"
      ]
     },
     "metadata": {},
     "output_type": "display_data"
    },
    {
     "data": {
      "text/plain": [
       "TrainOutput(global_step=10503, training_loss=0.13874378879700436, metrics={'train_runtime': 7254.1597, 'train_samples_per_second': 23.166, 'train_steps_per_second': 1.448, 'total_flos': 2.226088140934349e+16, 'train_loss': 0.13874378879700436, 'epoch': 3.0})"
      ]
     },
     "execution_count": 19,
     "metadata": {},
     "output_type": "execute_result"
    }
   ],
   "source": [
    "from transformers import Trainer, TrainingArguments\n",
    "import torch\n",
    "\n",
    "device = torch.device(\"mps\")\n",
    "\n",
    "# Initialize the model\n",
    "model.to(device)  # Move the model to the GPU if CUDA is available\n",
    "\n",
    "training_args = TrainingArguments(\n",
    "    per_device_train_batch_size=16,\n",
    "    per_device_eval_batch_size=16,\n",
    "    num_train_epochs=3,\n",
    "    evaluation_strategy=\"epoch\",\n",
    "    logging_dir=\"./logs\",\n",
    "    logging_steps=10,\n",
    "    do_train=True,\n",
    "    do_eval=True,\n",
    "    output_dir=\"./results\",\n",
    "    learning_rate=1e-5,\n",
    ")\n",
    "\n",
    "trainer = Trainer(\n",
    "    model=model,\n",
    "    args=training_args,\n",
    "    train_dataset=tokenized_datasets,\n",
    "    eval_dataset=tokenized_datasets_test,\n",
    "    data_collator=data_collator,\n",
    "    compute_metrics=compute_metrics,\n",
    ")\n",
    "\n",
    "trainer.train()"
   ]
  },
  {
   "cell_type": "code",
   "execution_count": 44,
   "id": "8fe282dc",
   "metadata": {},
   "outputs": [
    {
     "name": "stdout",
     "output_type": "stream",
     "text": [
      "{'eval_loss': 0.041739050298929214}\n"
     ]
    }
   ],
   "source": [
    "results = trainer.evaluate()\n",
    "print(results)"
   ]
  },
  {
   "cell_type": "code",
   "execution_count": 35,
   "id": "021836e7",
   "metadata": {},
   "outputs": [
    {
     "data": {
      "text/plain": [
       "('./finetunedcode/tokenizer_config.json',\n",
       " './finetunedcode/special_tokens_map.json',\n",
       " './finetunedcode/vocab.txt',\n",
       " './finetunedcode/added_tokens.json')"
      ]
     },
     "execution_count": 35,
     "metadata": {},
     "output_type": "execute_result"
    }
   ],
   "source": [
    "torch.save(model.state_dict(), \"./finetunedcode/model_weights.pth\")\n",
    "tokenizer.save_pretrained(\"./finetunedcode\")\n"
   ]
  },
  {
   "cell_type": "code",
   "execution_count": 36,
   "id": "498eb165",
   "metadata": {},
   "outputs": [],
   "source": [
    "config = model.distilbert.config\n",
    "config.save_pretrained(\"./finetunedcode\")\n"
   ]
  },
  {
   "cell_type": "code",
   "execution_count": null,
   "id": "83150988",
   "metadata": {},
   "outputs": [],
   "source": []
  }
 ],
 "metadata": {
  "kernelspec": {
   "display_name": "Python 3 (ipykernel)",
   "language": "python",
   "name": "python3"
  },
  "language_info": {
   "codemirror_mode": {
    "name": "ipython",
    "version": 3
   },
   "file_extension": ".py",
   "mimetype": "text/x-python",
   "name": "python",
   "nbconvert_exporter": "python",
   "pygments_lexer": "ipython3",
   "version": "3.11.6"
  }
 },
 "nbformat": 4,
 "nbformat_minor": 5
}
